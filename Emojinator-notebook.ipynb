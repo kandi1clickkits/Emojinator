{
 "cells": [
  {
   "cell_type": "markdown",
   "id": "7cf31f41",
   "metadata": {},
   "source": [
    "# Emojinator 🖖\n",
    "This code helps you to recognize and classify different hand emojis\n",
    "Import libraries for preprocessing and annotation"
   ]
  },
  {
   "cell_type": "code",
   "execution_count": 1,
   "id": "39713f25",
   "metadata": {},
   "outputs": [],
   "source": [
    "import cv2\n",
    "import keras\n",
    "from keras.models import load_model  \n",
    "import numpy as np\n",
    "import os"
   ]
  },
  {
   "cell_type": "markdown",
   "id": "1a851877",
   "metadata": {},
   "source": [
    "### Load Prediction Models\n",
    "\n",
    "    It will predict the emoji from processed data"
   ]
  },
  {
   "cell_type": "code",
   "execution_count": 2,
   "id": "728562af",
   "metadata": {},
   "outputs": [],
   "source": [
    "def keras_predict(model, image):\n",
    "    processed = keras_process_image(image)\n",
    "    pred_probab = model.predict(processed)[0]\n",
    "    pred_class = list(pred_probab).index(max(pred_probab))\n",
    "    return max(pred_probab), pred_class"
   ]
  },
  {
   "cell_type": "markdown",
   "id": "f2bda1d9",
   "metadata": {},
   "source": [
    "### Process Image\n",
    "   \n",
    "    It will process the images for the predict models\n",
    "    Returns a new resized image."
   ]
  },
  {
   "cell_type": "code",
   "execution_count": 3,
   "id": "8fbe712f",
   "metadata": {},
   "outputs": [],
   "source": [
    "def keras_process_image(img):\n",
    "    image_x = 50\n",
    "    image_y = 50\n",
    "    img = cv2.resize(img, (image_x, image_y))\n",
    "    img = np.array(img, dtype=np.float32)\n",
    "    img = np.reshape(img, (-1, image_x, image_y, 1))\n",
    "    return img"
   ]
  },
  {
   "cell_type": "markdown",
   "id": "c19d741e",
   "metadata": {},
   "source": [
    "### Getting Emojis\n",
    "\n",
    "    Collecting emojis from the hand_emo directory "
   ]
  },
  {
   "cell_type": "code",
   "execution_count": 4,
   "id": "c1494eca",
   "metadata": {},
   "outputs": [],
   "source": [
    "def get_emojis():\n",
    "    emojis_folder = 'Emojinator/hand_emo/'\n",
    "    emojis = []\n",
    "    for emoji in range(len(os.listdir(emojis_folder))):\n",
    "        print(emoji)\n",
    "        emojis.append(cv2.imread(emojis_folder+str(emoji)+'.png', -1))\n",
    "    return emojis"
   ]
  },
  {
   "cell_type": "markdown",
   "id": "786e8b4d",
   "metadata": {},
   "source": [
    "### Load overlay\n",
    "\n",
    "    Once the webcam turns on,an overlay will be created. This overlay captures the hand movements."
   ]
  },
  {
   "cell_type": "code",
   "execution_count": 5,
   "id": "87b50513",
   "metadata": {},
   "outputs": [],
   "source": [
    "def overlay(image, emoji, x,y,w,h):\n",
    "    emoji = cv2.resize(emoji, (w, h))\n",
    "    try:\n",
    "        image[y:y+h, x:x+w] = blend_transparent(image[y:y+h, x:x+w], emoji)\n",
    "    except:\n",
    "        pass\n",
    "    return image"
   ]
  },
  {
   "cell_type": "markdown",
   "id": "6525eae0",
   "metadata": {},
   "source": [
    "### Blend Transparent Method\n",
    "\n",
    "    Split out the transparency mask from the colour info"
   ]
  },
  {
   "cell_type": "code",
   "execution_count": 6,
   "id": "1bceaec2",
   "metadata": {},
   "outputs": [],
   "source": [
    "def blend_transparent(face_img, overlay_t_img):\n",
    "    \n",
    "    overlay_img = overlay_t_img[:,:,:3] # Grab the BRG planes\n",
    "    overlay_mask = overlay_t_img[:,:,3:]  # And the alpha plane\n",
    "\n",
    "    # Again calculate the inverse mask\n",
    "    background_mask = 255 - overlay_mask\n",
    "\n",
    "    # Turn the masks into three channel, so we can use them as weights\n",
    "    overlay_mask = cv2.cvtColor(overlay_mask, cv2.COLOR_GRAY2BGR)\n",
    "    background_mask = cv2.cvtColor(background_mask, cv2.COLOR_GRAY2BGR)\n",
    "\n",
    "    # Create a masked out face image, and masked out overlay\n",
    "    # We convert the images to floating point in range 0.0 - 1.0\n",
    "    face_part = (face_img * (1 / 255.0)) * (background_mask * (1 / 255.0))\n",
    "    overlay_part = (overlay_img * (1 / 255.0)) * (overlay_mask * (1 / 255.0))\n",
    "\n",
    "    # And finally just add them together, and rescale it back to an 8bit integer image\n",
    "    return np.uint8(cv2.addWeighted(face_part, 255.0, overlay_part, 255.0, 0.0))\n"
   ]
  },
  {
   "cell_type": "markdown",
   "id": "2327d17e",
   "metadata": {},
   "source": [
    "### Main Method \n",
    "\n",
    "    This method captures the live streaming video via web cam and displays corresponding emojis.\n",
    "    "
   ]
  },
  {
   "cell_type": "code",
   "execution_count": 7,
   "id": "a2630bf9",
   "metadata": {},
   "outputs": [],
   "source": [
    "def main():\n",
    "    emojis = get_emojis()\n",
    "    # cap = cv2.VideoCapture(0)\n",
    "    cap = cv2.VideoCapture(0, cv2.CAP_DSHOW)\n",
    "    x, y, w, h = 300, 50, 350, 350\n",
    "    \n",
    "    while (cap.isOpened()):\n",
    "        ret, img = cap.read()\n",
    "        img = cv2.flip(img, 1)\n",
    "        hsv = cv2.cvtColor(img, cv2.COLOR_BGR2HSV)\n",
    "        mask2 = cv2.inRange(hsv, np.array([2, 50, 60]), np.array([25, 150, 255]))\n",
    "        res = cv2.bitwise_and(img, img, mask=mask2)\n",
    "        gray = cv2.cvtColor(res, cv2.COLOR_BGR2GRAY)\n",
    "        median = cv2.GaussianBlur(gray, (5, 5), 0)\n",
    "\n",
    "        kernel_square = np.ones((5, 5), np.uint8)\n",
    "        dilation = cv2.dilate(median, kernel_square, iterations=2)\n",
    "        opening = cv2.morphologyEx(dilation, cv2.MORPH_CLOSE, kernel_square)\n",
    "        ret, thresh = cv2.threshold(opening, 30, 255, cv2.THRESH_BINARY)\n",
    "\n",
    "        thresh = thresh[y:y + h, x:x + w]\n",
    "        # contours = cv2.findContours(thresh.copy(), cv2.RETR_TREE, cv2.CHAIN_APPROX_NONE)[1]\n",
    "        contours,kk = cv2.findContours(thresh.copy(), cv2.RETR_TREE, cv2.CHAIN_APPROX_NONE)[-2:] #added recent\n",
    "        if len(contours) > 0:\n",
    "            contour = max(contours, key=cv2.contourArea)\n",
    "            if cv2.contourArea(contour) > 2500:\n",
    "                x, y, w1, h1 = cv2.boundingRect(contour)\n",
    "                newImage = thresh[y:y + h1, x:x + w1]\n",
    "                newImage = cv2.resize(newImage, (50, 50))\n",
    "                pred_probab, pred_class = keras_predict(model, newImage)\n",
    "                print(pred_class, pred_probab)\n",
    "                img = overlay(img, emojis[pred_class], 400, 250, 90, 90)\n",
    "\n",
    "        x, y, w, h = 300, 50, 350, 350\n",
    "        cv2.imshow(\"Frame\", img)\n",
    "        cv2.imshow(\"Contours\", thresh)\n",
    "        k = cv2.waitKey(10)\n",
    "        print(k)\n",
    "        if k == 27 or k == ord('q'):\n",
    "            break"
   ]
  },
  {
   "cell_type": "markdown",
   "id": "645b762b",
   "metadata": {},
   "source": [
    "### Calls Main Method\n",
    "\n",
    "    Starts Executing the Emojinator\n",
    "    press esc or q to stop capturing"
   ]
  },
  {
   "cell_type": "code",
   "execution_count": null,
   "id": "bfed9f0c",
   "metadata": {},
   "outputs": [],
   "source": [
    "model = load_model('Emojinator/emojinator.h5')\n",
    "keras_predict(model, np.zeros((50, 50, 1), dtype=np.uint8))\n",
    "main()"
   ]
  },
  {
   "cell_type": "code",
   "execution_count": null,
   "id": "c6c809df",
   "metadata": {},
   "outputs": [],
   "source": []
  }
 ],
 "metadata": {
  "kernelspec": {
   "display_name": "Python 3 (ipykernel)",
   "language": "python",
   "name": "python3"
  },
  "language_info": {
   "codemirror_mode": {
    "name": "ipython",
    "version": 3
   },
   "file_extension": ".py",
   "mimetype": "text/x-python",
   "name": "python",
   "nbconvert_exporter": "python",
   "pygments_lexer": "ipython3",
   "version": "3.9.6"
  }
 },
 "nbformat": 4,
 "nbformat_minor": 5
}
